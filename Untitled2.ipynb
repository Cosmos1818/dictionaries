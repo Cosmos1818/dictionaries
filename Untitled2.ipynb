{
  "nbformat": 4,
  "nbformat_minor": 0,
  "metadata": {
    "colab": {
      "name": "Untitled2.ipynb",
      "provenance": []
    },
    "kernelspec": {
      "name": "python3",
      "display_name": "Python 3"
    },
    "language_info": {
      "name": "python"
    }
  },
  "cells": [
    {
      "cell_type": "code",
      "execution_count": null,
      "metadata": {
        "id": "1SVLAe3gn439"
      },
      "outputs": [],
      "source": [
        "# def largest(my_list):\n",
        "#     temp = 0\n",
        "#     for x in a:\n",
        "#         if x > temp:\n",
        "#             temp = x \n",
        "#     print(temp)\n",
        "\n",
        "# a = [13,34,23,76,98,56,34,65,54,23,65,23,23,54,23,53,67,98,433,23,34,56,78,5,34,23,4,67,99,]\n",
        "# largest(a)\n",
        "# b = [34,45,23,23,54,13,9,78,867,809,7845,45,234,34,76576,9,34768,] \n",
        "# print(largest(a)) \n",
        "# print(largest(b))\n",
        "# def hi(email):\n",
        "#     username = \"\" \n",
        "#     for x in email: \n",
        "#         if x is \"@\": \n",
        "#             break \n",
        "#         username = username+x \n",
        "#         print() \n",
        "#         print(username)\n",
        "\n",
        "# email = \"10024980s11@gmail.com\" \n",
        "\n",
        "# hi(email)\n",
        "\n",
        "# find the smallest number in a list \n",
        "\n",
        "def smallest(my_list):\n",
        "    temp = 10000\n",
        "    for x in a:\n",
        "        if x < temp:\n",
        "            temp = x \n",
        "    print(temp)\n",
        "a = [54,23,12,56,782,32,23,87,56,23,5,12,34,2,35,4,652,32,3,43]\n",
        "smallest(a)\n",
        "\n",
        "\n",
        "\n",
        "\n",
        "\n",
        "\n",
        "\n",
        "\n"
      ]
    }
  ]
}